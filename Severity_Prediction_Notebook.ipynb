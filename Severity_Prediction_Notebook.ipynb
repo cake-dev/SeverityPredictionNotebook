{
 "cells": [
  {
   "attachments": {},
   "cell_type": "markdown",
   "metadata": {},
   "source": [
    "#### Wildfire Severity Prediction using Raster Tools and SciKit-Learn"
   ]
  },
  {
   "attachments": {},
   "cell_type": "markdown",
   "metadata": {},
   "source": [
    "## 1. Data Collection"
   ]
  },
  {
   "attachments": {},
   "cell_type": "markdown",
   "metadata": {},
   "source": [
    "## 2. Building the Dataset"
   ]
  },
  {
   "attachments": {},
   "cell_type": "markdown",
   "metadata": {},
   "source": [
    "##### Once the data has been collected, the dataset can be built.  The files must be arranged in specific folders for the script to work.  The structure is as follows:\n",
    "\n",
    "> <table><th>Feature</th><th>Folder</th></tr>\n",
    "<tr><td>Elevation Data</td><td>data/terrain</td></tr>\n",
    "<tr><td>GridMet Climate Data</td><td>data/FeatureData/gridmet</td></tr>\n",
    "<tr><td>DayMet Climate Data</td><td>data/FeatureData/daymet</td></tr>\n",
    "<tr><td>AdaptWest Climate Data</td><td>data/FeatureData/adaptwest</td></tr>\n",
    "<tr><td>Landfire Fuel Data</td><td>data/FeatureData/landfire</td></tr>\n",
    "<tr><td>Biomass Data</td><td>data/FeatureData/biomass</td></tr>\n",
    "<tr><td>MTBS Data</td><td>data/MTBS_Data</td></tr>"
   ]
  },
  {
   "attachments": {},
   "cell_type": "markdown",
   "metadata": {},
   "source": [
    "## 3. Model Training"
   ]
  },
  {
   "attachments": {},
   "cell_type": "markdown",
   "metadata": {},
   "source": [
    "## 4. Model Evaluation"
   ]
  },
  {
   "cell_type": "code",
   "execution_count": null,
   "metadata": {
    "vscode": {
     "languageId": "shellscript"
    }
   },
   "outputs": [],
   "source": []
  }
 ],
 "metadata": {
  "kernelspec": {
   "display_name": "rstools",
   "language": "python",
   "name": "python3"
  },
  "language_info": {
   "name": "python",
   "version": "3.8.15"
  },
  "orig_nbformat": 4,
  "vscode": {
   "interpreter": {
    "hash": "00a9f65607a6ad9a572a8754f994c98022b3f03e153a160dac8529d25bd50f52"
   }
  }
 },
 "nbformat": 4,
 "nbformat_minor": 2
}
