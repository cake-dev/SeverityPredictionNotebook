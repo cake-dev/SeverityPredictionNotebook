{
 "cells": [
  {
   "attachments": {},
   "cell_type": "markdown",
   "metadata": {},
   "source": [
    "#### Wildfire Severity Prediction using Raster Tools and SciKit-Learn"
   ]
  },
  {
   "attachments": {},
   "cell_type": "markdown",
   "metadata": {},
   "source": [
    "## 1. Data Collection"
   ]
  },
  {
   "attachments": {},
   "cell_type": "markdown",
   "metadata": {},
   "source": [
    "## 2. Building the Dataset"
   ]
  },
  {
   "attachments": {},
   "cell_type": "markdown",
   "metadata": {},
   "source": [
    "#### The script used to build the dataset is located in the following path: Fire_Prediction/build_mtbs_dataframe.py"
   ]
  },
  {
   "attachments": {},
   "cell_type": "markdown",
   "metadata": {},
   "source": [
    "##### Once the data has been collected, the dataset can be built.  The files must be arranged in specific folders for the script to work.  The structure is as follows:\n",
    "\n",
    "> <table><th>Feature</th><th>Folder</th></tr>\n",
    "<tr><td>MTBS Data</td><td>data/MTBS_Data</td></tr>\n",
    "<tr><td>DEM Data</td><td>data/terrain</td></tr>\n",
    "<tr><td>GridMet Climate Data</td><td>data/FeatureData/gridmet</td></tr>\n",
    "<tr><td>DayMet Climate Data</td><td>data/FeatureData/daymet</td></tr>\n",
    "<tr><td>AdaptWest Climate Data</td><td>data/FeatureData/adaptwest</td></tr>\n",
    "<tr><td>Landfire Fuel Data</td><td>data/FeatureData/landfire</td></tr>\n",
    "<tr><td>Biomass Data</td><td>data/FeatureData/biomass</td></tr>"
   ]
  },
  {
   "attachments": {},
   "cell_type": "markdown",
   "metadata": {},
   "source": [
    "##### The script will generate a Dask dataframe in Parquet format.  The dataframe will have 20 columns, 19 of which are features and 1 of which is the target variable.  The features are as follows:\n",
    "\n",
    "> <table><th>Feature</th><th>Column Name</th><th>Temporal Range</th></tr>\n",
    "<tr><td>MTBS Severity Rating</td><td>mtbs</td><td>Const</td></tr>\n",
    "<tr><td>MTBS Fire Year</td><td>year</td><td>Const</td></tr>\n",
    "<tr><td>DEM elevation</td><td>dem</td><td>Const</td></tr>\n",
    "<tr><td>DEM slope</td><td>dem_slope</td><td>Const</td></tr>\n",
    "<tr><td>DEM aspect</td><td>dem_aspect</td><td>Const</td></tr>\n",
    "<tr><td>DEM hillshade</td><td>hillshade</td><td>Const</td></tr>\n",
    "<tr><td>GridMet Drought Index</td><td>gm_pdsi</td><td>Weekly avg</td></tr>\n",
    "<tr><td>GridMet Solar Radiation</td><td>gm_srad</td><td>Weekly avg</td></tr>\n",
    "<tr><td>GridMet Vapor Pressure</td><td>gm_vpd</td><td>Weekly avg</td></tr>\n",
    "<tr><td>DayMet Temp Max</td><td>dm_tmax</td><td>Monthly max</td></tr>\n",
    "<tr><td>DayMet Temp Min</td><td>dm_tmin</td><td>Monthly min</td></tr>\n",
    "<tr><td>AdaptWest Mean Annual Temp</td><td>aw_mat</td><td>Yearly avg</td></tr>\n",
    "<tr><td>AdaptWest Mean Temp Warmest Month</td><td>aw_mwmt</td><td>Avg of 1 month</td></tr>\n",
    "<tr><td>AdaptWest Mean Temp Coldest Month</td><td>aw_mcmt</td><td>Avg of 1 month</td></tr>\n",
    "<tr><td>AdaptWest Temp Difference</td><td>aw_td</td><td>Diff of mwmt and mcmt</td></tr>\n",
    "<tr><td>Landfire Vegetation Type</td><td>landfire_fvt</td><td>2020 update</td></tr>\n",
    "<tr><td>Landfire Fuel Model</td><td>landfire_fbfm40</td><td>2020 update</td></tr>\n",
    "<tr><td>Biomass Annuals</td><td>biomass_afg</td><td>Yearly avg</td></tr>\n",
    "<tr><td>Biomass Perennials</td><td>biomass_pfg</td><td>Yearly avg</td></tr>\n",
    "<tr><td>Normalized Difference Vegetation Index</td><td>ndvi</td><td>Weekly avg</td></tr>"
   ]
  },
  {
   "attachments": {},
   "cell_type": "markdown",
   "metadata": {},
   "source": [
    "## 3. Model Training"
   ]
  },
  {
   "attachments": {},
   "cell_type": "markdown",
   "metadata": {},
   "source": [
    "## 4. Model Evaluation"
   ]
  },
  {
   "cell_type": "code",
   "execution_count": null,
   "metadata": {},
   "outputs": [],
   "source": []
  }
 ],
 "metadata": {
  "kernelspec": {
   "display_name": "rstools",
   "language": "python",
   "name": "python3"
  },
  "language_info": {
   "name": "python",
   "version": "3.8.15"
  },
  "orig_nbformat": 4,
  "vscode": {
   "interpreter": {
    "hash": "00a9f65607a6ad9a572a8754f994c98022b3f03e153a160dac8529d25bd50f52"
   }
  }
 },
 "nbformat": 4,
 "nbformat_minor": 2
}
